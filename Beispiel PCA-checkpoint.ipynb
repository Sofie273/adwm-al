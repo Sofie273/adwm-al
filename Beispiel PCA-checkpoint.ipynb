{
 "cells": [
  {
   "cell_type": "code",
   "execution_count": 1,
   "id": "31cfa886",
   "metadata": {},
   "outputs": [],
   "source": [
    "import numpy as np\n",
    "from sklearn.preprocessing import StandardScaler"
   ]
  },
  {
   "cell_type": "code",
   "execution_count": 2,
   "id": "fc1c9001",
   "metadata": {},
   "outputs": [],
   "source": [
    "matrix_size = (10,10)\n",
    "np.random.seed(42)\n",
    "random_matrix = np.random.rand(*matrix_size)\n",
    "data = random_matrix*100\n",
    "np.set_printoptions(precision=2)"
   ]
  },
  {
   "cell_type": "code",
   "execution_count": 3,
   "id": "83ab385e",
   "metadata": {},
   "outputs": [
    {
     "name": "stdout",
     "output_type": "stream",
     "text": [
      "[[37.45 95.07 73.2  59.87 15.6  15.6   5.81 86.62 60.11 70.81]\n",
      " [ 2.06 96.99 83.24 21.23 18.18 18.34 30.42 52.48 43.19 29.12]\n",
      " [61.19 13.95 29.21 36.64 45.61 78.52 19.97 51.42 59.24  4.65]\n",
      " [60.75 17.05  6.51 94.89 96.56 80.84 30.46  9.77 68.42 44.02]\n",
      " [12.2  49.52  3.44 90.93 25.88 66.25 31.17 52.01 54.67 18.49]\n",
      " [96.96 77.51 93.95 89.48 59.79 92.19  8.85 19.6   4.52 32.53]\n",
      " [38.87 27.13 82.87 35.68 28.09 54.27 14.09 80.22  7.46 98.69]\n",
      " [77.22 19.87  0.55 81.55 70.69 72.9  77.13  7.4  35.85 11.59]\n",
      " [86.31 62.33 33.09  6.36 31.1  32.52 72.96 63.76 88.72 47.22]\n",
      " [11.96 71.32 76.08 56.13 77.1  49.38 52.27 42.75  2.54 10.79]]\n"
     ]
    }
   ],
   "source": [
    "print(data)"
   ]
  },
  {
   "cell_type": "code",
   "execution_count": 4,
   "id": "a2d14d54",
   "metadata": {},
   "outputs": [
    {
     "name": "stdout",
     "output_type": "stream",
     "text": [
      "[[-0.35  1.38  0.71  0.09 -1.18 -1.59 -1.19  1.54  0.63  1.21]\n",
      " [-1.47  1.44  0.99 -1.2  -1.09 -1.48 -0.16  0.23  0.03 -0.27]\n",
      " [ 0.4  -1.28 -0.54 -0.69 -0.05  0.88 -0.6   0.19  0.6  -1.14]\n",
      " [ 0.39 -1.18 -1.18  1.26  1.88  0.97 -0.16 -1.42  0.93  0.26]\n",
      " [-1.15 -0.12 -1.27  1.12 -0.8   0.4  -0.13  0.21  0.44 -0.65]\n",
      " [ 1.54  0.8   1.29  1.08  0.49  1.42 -1.06 -1.04 -1.35 -0.15]\n",
      " [-0.31 -0.85  0.98 -0.72 -0.71 -0.07 -0.84  1.29 -1.25  2.2 ]\n",
      " [ 0.91 -1.09 -1.35  0.81  0.9   0.66  1.78 -1.51 -0.24 -0.9 ]\n",
      " [ 1.2   0.3  -0.43 -1.7  -0.6  -0.93  1.61  0.66  1.65  0.37]\n",
      " [-1.16  0.6   0.79 -0.04  1.15 -0.26  0.75 -0.15 -1.42 -0.92]]\n"
     ]
    }
   ],
   "source": [
    "from sklearn.preprocessing import StandardScaler\n",
    "scaler = StandardScaler()\n",
    "data_standardized = scaler.fit_transform(data)\n",
    "print(data_standardized)"
   ]
  },
  {
   "cell_type": "code",
   "execution_count": 5,
   "id": "cf8f7b83",
   "metadata": {},
   "outputs": [
    {
     "name": "stdout",
     "output_type": "stream",
     "text": [
      "[[ 1.11 -0.36 -0.21  0.14  0.38  0.56  0.2  -0.44  0.17  0.02]\n",
      " [-0.36  1.11  0.74 -0.25 -0.53 -0.73 -0.23  0.41 -0.12  0.12]\n",
      " [-0.21  0.74  1.11 -0.37 -0.36 -0.41 -0.56  0.46 -0.66  0.44]\n",
      " [ 0.14 -0.25 -0.37  1.11  0.61  0.71 -0.19 -0.69 -0.25 -0.25]\n",
      " [ 0.38 -0.53 -0.36  0.61  1.11  0.73  0.33 -0.92 -0.22 -0.42]\n",
      " [ 0.56 -0.73 -0.41  0.71  0.73  1.11 -0.06 -0.78 -0.29 -0.4 ]\n",
      " [ 0.2  -0.23 -0.56 -0.19  0.33 -0.06  1.11 -0.39  0.26 -0.45]\n",
      " [-0.44  0.41  0.46 -0.69 -0.92 -0.78 -0.39  1.11  0.15  0.65]\n",
      " [ 0.17 -0.12 -0.66 -0.25 -0.22 -0.29  0.26  0.15  1.11 -0.04]\n",
      " [ 0.02  0.12  0.44 -0.25 -0.42 -0.4  -0.45  0.65 -0.04  1.11]]\n"
     ]
    }
   ],
   "source": [
    "covariance_matrix = np.cov(data_standardized, rowvar=False)\n",
    "print(covariance_matrix)"
   ]
  },
  {
   "cell_type": "code",
   "execution_count": 6,
   "id": "d8c3c2f3",
   "metadata": {},
   "outputs": [
    {
     "name": "stdout",
     "output_type": "stream",
     "text": [
      "Eigenwerte:\n",
      " [ 4.66e+00  2.18e+00  1.41e+00  1.05e+00  7.69e-01  5.65e-01  3.22e-01\n",
      "  1.10e-01 -1.79e-16  3.87e-02]\n",
      "\n",
      "Eigenvektoren:\n",
      " [[-0.24  0.04  0.43  0.63  0.42  0.15 -0.19 -0.18  0.1   0.28]\n",
      " [ 0.33 -0.13 -0.41  0.12  0.61 -0.14 -0.07 -0.08  0.35 -0.39]\n",
      " [ 0.32 -0.45 -0.1   0.37  0.03  0.1   0.23  0.02 -0.7  -0.01]\n",
      " [-0.31 -0.32  0.02 -0.44  0.33 -0.39 -0.38 -0.23 -0.35  0.16]\n",
      " [-0.41 -0.15 -0.12  0.17 -0.11 -0.37  0.64 -0.43  0.16 -0.05]\n",
      " [-0.41 -0.25  0.22 -0.03 -0.05  0.38 -0.11  0.   -0.05 -0.74]\n",
      " [-0.18  0.45 -0.37  0.4  -0.24 -0.31 -0.4  -0.08 -0.29 -0.24]\n",
      " [ 0.44  0.11  0.22 -0.12 -0.19  0.12 -0.14 -0.81 -0.02 -0.11]\n",
      " [-0.    0.6   0.22 -0.2   0.45 -0.02  0.4   0.03 -0.38 -0.21]\n",
      " [ 0.27 -0.12  0.58  0.12 -0.14 -0.64 -0.04  0.26  0.08 -0.26]]\n"
     ]
    }
   ],
   "source": [
    "eigenvalues, eigenvectors = np.linalg.eig(covariance_matrix)\n",
    "print(\"Eigenwerte:\\n\",eigenvalues)\n",
    "print(\"\\nEigenvektoren:\\n\",eigenvectors)"
   ]
  },
  {
   "cell_type": "code",
   "execution_count": 7,
   "id": "2c44abdd",
   "metadata": {},
   "outputs": [
    {
     "name": "stdout",
     "output_type": "stream",
     "text": [
      "Erklärte Varianz für jede Variable:\n",
      "[ 4.20e-01  1.97e-01  1.27e-01  9.48e-02  6.92e-02  5.08e-02  2.90e-02\n",
      "  9.92e-03 -1.61e-17  3.49e-03]\n"
     ]
    }
   ],
   "source": [
    "explained_variance_ratio = eigenvalues / np.sum(eigenvalues)\n",
    "\n",
    "print(\"Erklärte Varianz für jede Variable:\")\n",
    "print(explained_variance_ratio)"
   ]
  },
  {
   "cell_type": "code",
   "execution_count": 8,
   "id": "8e231df1",
   "metadata": {},
   "outputs": [],
   "source": [
    "eigenvalue_indices = np.argsort(eigenvalues)[::-1]\n",
    "sorted_eigenvalues = eigenvalues[eigenvalue_indices]\n",
    "sorted_eigenvectors = eigenvectors[:, eigenvalue_indices]"
   ]
  },
  {
   "cell_type": "code",
   "execution_count": 9,
   "id": "53ea0257",
   "metadata": {},
   "outputs": [],
   "source": [
    "num_components = 5\n",
    "selected_eigenvectors = sorted_eigenvectors[:, :num_components]"
   ]
  },
  {
   "cell_type": "code",
   "execution_count": 10,
   "id": "dd842ba8",
   "metadata": {},
   "outputs": [
    {
     "name": "stdout",
     "output_type": "stream",
     "text": [
      "Erklärte Varianz für die ausgewählten fünf Hauptkomponenten:\n",
      "[0.42 0.2  0.13 0.09 0.07]\n"
     ]
    }
   ],
   "source": [
    "explained_variance_ratio_selected = sorted_eigenvalues[:num_components] / np.sum(sorted_eigenvalues)\n",
    "\n",
    "print(\"Erklärte Varianz für die ausgewählten fünf Hauptkomponenten:\")\n",
    "print(explained_variance_ratio_selected)"
   ]
  },
  {
   "cell_type": "code",
   "execution_count": 11,
   "id": "c1925f56",
   "metadata": {},
   "outputs": [
    {
     "name": "stdout",
     "output_type": "stream",
     "text": [
      "[[ 3.09 -0.09  0.62 -0.63  1.08]\n",
      " [ 2.63  0.23 -1.59 -0.12  0.14]\n",
      " [-0.94  0.68  0.68 -0.34 -0.37]\n",
      " [-2.95  0.07  0.89 -0.65  0.25]\n",
      " [-0.43  0.5  -0.31 -2.09  0.12]\n",
      " [-1.1  -2.79  0.25  1.05  1.28]\n",
      " [ 1.97 -1.23  1.77  0.29 -1.68]\n",
      " [-3.13  0.83 -0.53  0.56 -0.33]\n",
      " [ 0.93  2.81  0.41  1.59  0.4 ]\n",
      " [-0.07 -1.01 -2.18  0.35 -0.89]]\n"
     ]
    }
   ],
   "source": [
    "projected_data = np.dot(data_standardized, selected_eigenvectors)\n",
    "print(projected_data)"
   ]
  }
 ],
 "metadata": {
  "kernelspec": {
   "display_name": "Python 3 (ipykernel)",
   "language": "python",
   "name": "python3"
  },
  "language_info": {
   "codemirror_mode": {
    "name": "ipython",
    "version": 3
   },
   "file_extension": ".py",
   "mimetype": "text/x-python",
   "name": "python",
   "nbconvert_exporter": "python",
   "pygments_lexer": "ipython3",
   "version": "3.11.5"
  }
 },
 "nbformat": 4,
 "nbformat_minor": 5
}
