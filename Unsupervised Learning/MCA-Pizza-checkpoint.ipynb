{
 "cells": [
  {
   "cell_type": "code",
   "execution_count": 1,
   "id": "1c5ab193",
   "metadata": {},
   "outputs": [],
   "source": [
    "import pandas as pd\n",
    "from IPython.display import display, HTML\n",
    "from itertools import combinations\n",
    "from collections import Counter"
   ]
  },
  {
   "cell_type": "code",
   "execution_count": 2,
   "id": "d2f1ad28",
   "metadata": {
    "scrolled": true
   },
   "outputs": [
    {
     "name": "stdout",
     "output_type": "stream",
     "text": [
      "   Index                                        Komponenten  Unnamed: 2  \\\n",
      "0    1.0              Salami, Schinken, Pilze, Zwiebeln, Ei         NaN   \n",
      "1    2.0                             Salami, Schinken, Mais         NaN   \n",
      "2    3.0         Mais, Paprika, Zwiebeln, Zucchini, Tomaten         NaN   \n",
      "3    4.0  Pilze, Brokkoli, Paprika, Zwiebeln, Oliven, Au...         NaN   \n",
      "4    5.0                       Schinken, Pilze, Artischocke         NaN   \n",
      "\n",
      "   Unnamed: 3  \n",
      "0         NaN  \n",
      "1         NaN  \n",
      "2         NaN  \n",
      "3         NaN  \n",
      "4         NaN  \n"
     ]
    }
   ],
   "source": [
    "file_path = r'C:\\Users\\Moritz\\Desktop\\DHBW CAS\\Data & Web-Mining\\Präsentation\\pizza-daten.csv'\n",
    "df = pd.read_csv(file_path)\n",
    "print(df.head())"
   ]
  },
  {
   "cell_type": "code",
   "execution_count": 3,
   "id": "e4fe22b9",
   "metadata": {},
   "outputs": [
    {
     "data": {
      "text/html": [
       "<table border=\"1\" class=\"dataframe\">\n",
       "  <thead>\n",
       "    <tr style=\"text-align: right;\">\n",
       "      <th></th>\n",
       "      <th>Komponenten</th>\n",
       "    </tr>\n",
       "  </thead>\n",
       "  <tbody>\n",
       "    <tr>\n",
       "      <th>0</th>\n",
       "      <td>Salami, Schinken, Pilze, Zwiebeln, Ei</td>\n",
       "    </tr>\n",
       "    <tr>\n",
       "      <th>1</th>\n",
       "      <td>Salami, Schinken, Mais</td>\n",
       "    </tr>\n",
       "    <tr>\n",
       "      <th>2</th>\n",
       "      <td>Mais, Paprika, Zwiebeln, Zucchini, Tomaten</td>\n",
       "    </tr>\n",
       "    <tr>\n",
       "      <th>3</th>\n",
       "      <td>Pilze, Brokkoli, Paprika, Zwiebeln, Oliven, Aubergine, Sauce Hollandaise</td>\n",
       "    </tr>\n",
       "    <tr>\n",
       "      <th>4</th>\n",
       "      <td>Schinken, Pilze, Artischocke</td>\n",
       "    </tr>\n",
       "    <tr>\n",
       "      <th>5</th>\n",
       "      <td>Salami, Pilze, Brokkoli, Paprika, Zwiebeln, Tomaten</td>\n",
       "    </tr>\n",
       "    <tr>\n",
       "      <th>6</th>\n",
       "      <td>Pilze, Artischocke, Zwiebeln, Jalapenos/Peperoni, Aubergine</td>\n",
       "    </tr>\n",
       "    <tr>\n",
       "      <th>7</th>\n",
       "      <td>Salami, Zwiebeln, Tomaten</td>\n",
       "    </tr>\n",
       "    <tr>\n",
       "      <th>8</th>\n",
       "      <td>Rucola, Parma-Schinken, Parmesan</td>\n",
       "    </tr>\n",
       "    <tr>\n",
       "      <th>9</th>\n",
       "      <td>Salami, Schinken, Pilze, Jalapenos/Peperoni, Aubergine</td>\n",
       "    </tr>\n",
       "    <tr>\n",
       "      <th>10</th>\n",
       "      <td>Pilze, Paprika, Zwiebeln, Zucchini</td>\n",
       "    </tr>\n",
       "    <tr>\n",
       "      <th>11</th>\n",
       "      <td>Brokkoli, Mais, Paprika, Zucchini, Mozarella</td>\n",
       "    </tr>\n",
       "    <tr>\n",
       "      <th>12</th>\n",
       "      <td>Schinken, Mais, Mozzarella, Tomatensoße</td>\n",
       "    </tr>\n",
       "    <tr>\n",
       "      <th>13</th>\n",
       "      <td>Salami, Schinken, Pilze, Artischocke, Thunfisch, Tomaten</td>\n",
       "    </tr>\n",
       "    <tr>\n",
       "      <th>14</th>\n",
       "      <td>Salami</td>\n",
       "    </tr>\n",
       "  </tbody>\n",
       "</table>"
      ],
      "text/plain": [
       "<IPython.core.display.HTML object>"
      ]
     },
     "metadata": {},
     "output_type": "display_data"
    }
   ],
   "source": [
    "columns_to_remove = ['Index','Unnamed: 2','Unnamed: 3']\n",
    "df.drop(columns=columns_to_remove, axis=1, inplace=True)\n",
    "\n",
    "html = df.head(15).to_html()\n",
    "display(HTML(html))"
   ]
  },
  {
   "cell_type": "code",
   "execution_count": 4,
   "id": "f1edc331",
   "metadata": {},
   "outputs": [
    {
     "name": "stdout",
     "output_type": "stream",
     "text": [
      "object\n"
     ]
    }
   ],
   "source": [
    "print(df['Komponenten'].dtype)"
   ]
  },
  {
   "cell_type": "code",
   "execution_count": 5,
   "id": "fe50535f",
   "metadata": {},
   "outputs": [],
   "source": [
    "df.dropna(inplace=True)"
   ]
  },
  {
   "cell_type": "code",
   "execution_count": 6,
   "id": "1ce8f7b1",
   "metadata": {},
   "outputs": [
    {
     "data": {
      "text/html": [
       "<table border=\"1\" class=\"dataframe\">\n",
       "  <thead>\n",
       "    <tr style=\"text-align: right;\">\n",
       "      <th></th>\n",
       "      <th>Komponenten</th>\n",
       "    </tr>\n",
       "  </thead>\n",
       "  <tbody>\n",
       "    <tr>\n",
       "      <th>0</th>\n",
       "      <td>[Salami, Schinken, Pilze, Zwiebeln, Ei]</td>\n",
       "    </tr>\n",
       "    <tr>\n",
       "      <th>1</th>\n",
       "      <td>[Salami, Schinken, Mais]</td>\n",
       "    </tr>\n",
       "    <tr>\n",
       "      <th>2</th>\n",
       "      <td>[Mais, Paprika, Zwiebeln, Zucchini, Tomaten]</td>\n",
       "    </tr>\n",
       "    <tr>\n",
       "      <th>3</th>\n",
       "      <td>[Pilze, Brokkoli, Paprika, Zwiebeln, Oliven, Aubergine, Sauce Hollandaise]</td>\n",
       "    </tr>\n",
       "    <tr>\n",
       "      <th>4</th>\n",
       "      <td>[Schinken, Pilze, Artischocke]</td>\n",
       "    </tr>\n",
       "    <tr>\n",
       "      <th>5</th>\n",
       "      <td>[Salami, Pilze, Brokkoli, Paprika, Zwiebeln, Tomaten]</td>\n",
       "    </tr>\n",
       "    <tr>\n",
       "      <th>6</th>\n",
       "      <td>[Pilze, Artischocke, Zwiebeln, Jalapenos/Peperoni, Aubergine]</td>\n",
       "    </tr>\n",
       "    <tr>\n",
       "      <th>7</th>\n",
       "      <td>[Salami, Zwiebeln, Tomaten]</td>\n",
       "    </tr>\n",
       "    <tr>\n",
       "      <th>8</th>\n",
       "      <td>[Rucola, Parma-Schinken, Parmesan]</td>\n",
       "    </tr>\n",
       "    <tr>\n",
       "      <th>9</th>\n",
       "      <td>[Salami, Schinken, Pilze, Jalapenos/Peperoni, Aubergine]</td>\n",
       "    </tr>\n",
       "    <tr>\n",
       "      <th>10</th>\n",
       "      <td>[Pilze, Paprika, Zwiebeln, Zucchini]</td>\n",
       "    </tr>\n",
       "    <tr>\n",
       "      <th>11</th>\n",
       "      <td>[Brokkoli, Mais, Paprika, Zucchini, Mozarella]</td>\n",
       "    </tr>\n",
       "    <tr>\n",
       "      <th>12</th>\n",
       "      <td>[Schinken, Mais, Mozzarella, Tomatensoße]</td>\n",
       "    </tr>\n",
       "    <tr>\n",
       "      <th>13</th>\n",
       "      <td>[Salami, Schinken, Pilze, Artischocke, Thunfisch, Tomaten]</td>\n",
       "    </tr>\n",
       "    <tr>\n",
       "      <th>14</th>\n",
       "      <td>[Salami]</td>\n",
       "    </tr>\n",
       "  </tbody>\n",
       "</table>"
      ],
      "text/plain": [
       "<IPython.core.display.HTML object>"
      ]
     },
     "metadata": {},
     "output_type": "display_data"
    }
   ],
   "source": [
    "df['Komponenten'] = df['Komponenten'].str.split(',')\n",
    "df['Komponenten'] = df['Komponenten'].apply(lambda x: [obj.strip() for obj in x] if isinstance(x, list) else x)\n",
    "html = df.head(15).to_html()\n",
    "display(HTML(html))"
   ]
  },
  {
   "cell_type": "code",
   "execution_count": 7,
   "id": "26af6289",
   "metadata": {},
   "outputs": [
    {
     "name": "stdout",
     "output_type": "stream",
     "text": [
      "   Jalapenos/Peperoni  Kapern  Pesto  Brokkoli  \\\n",
      "0                   0       0      0         0   \n",
      "1                   0       0      0         0   \n",
      "2                   0       0      0         0   \n",
      "3                   0       0      0         1   \n",
      "4                   0       0      0         0   \n",
      "\n",
      "   italienische Kräuter (getrocknet)  Parmesan  Tomatensoße  Anchovis  \\\n",
      "0                                  0         0            0         0   \n",
      "1                                  0         0            0         0   \n",
      "2                                  0         0            0         0   \n",
      "3                                  0         0            0         0   \n",
      "4                                  0         0            0         0   \n",
      "\n",
      "   Paprika  Artischocke  ...  Creme fraiche  Lachs  Sardellen  Ei  Zwiebeln  \\\n",
      "0        0            0  ...              0      0          0   1         1   \n",
      "1        0            0  ...              0      0          0   0         0   \n",
      "2        1            0  ...              0      0          0   0         1   \n",
      "3        1            0  ...              0      0          0   0         1   \n",
      "4        0            1  ...              0      0          0   0         0   \n",
      "\n",
      "   Parmaschinken + Büffelmozzarella  Büffelmozzarella  Thunfisch  Mozzarella  \\\n",
      "0                                 0                 0          0           0   \n",
      "1                                 0                 0          0           0   \n",
      "2                                 0                 0          0           0   \n",
      "3                                 0                 0          0           0   \n",
      "4                                 0                 0          0           0   \n",
      "\n",
      "   Feta  \n",
      "0     0  \n",
      "1     0  \n",
      "2     0  \n",
      "3     0  \n",
      "4     0  \n",
      "\n",
      "[5 rows x 48 columns]\n"
     ]
    }
   ],
   "source": [
    "unique_objects = set()\n",
    "for obj_list in df['Komponenten']:\n",
    "    unique_objects.update(obj_list)\n",
    "\n",
    "for obj in unique_objects:\n",
    "    df[obj] = df['Komponenten'].apply(lambda x: 1 if obj in x else 0)\n",
    "\n",
    "df.drop('Komponenten', axis=1, inplace=True)\n",
    "df.drop('',axis=1,inplace=True)\n",
    "\n",
    "print(df.head(5))"
   ]
  },
  {
   "cell_type": "code",
   "execution_count": 8,
   "id": "126a73b4",
   "metadata": {},
   "outputs": [
    {
     "name": "stdout",
     "output_type": "stream",
     "text": [
      "Pilze                 92\n",
      "Schinken              80\n",
      "Zwiebeln              72\n",
      "Salami                63\n",
      "Mais                  52\n",
      "Paprika               34\n",
      "Oliven                34\n",
      "Jalapenos/Peperoni    34\n",
      "Rucola                32\n",
      "Tomaten               28\n",
      "dtype: int64\n"
     ]
    }
   ],
   "source": [
    "component_counts = df.sum().sort_values(ascending=False)\n",
    "\n",
    "top_10_components = component_counts.head(10)\n",
    "\n",
    "print(top_10_components)"
   ]
  },
  {
   "cell_type": "code",
   "execution_count": 9,
   "id": "ef602897",
   "metadata": {},
   "outputs": [
    {
     "name": "stdout",
     "output_type": "stream",
     "text": [
      "\n",
      "10 am häufigsten kombinierte 2 Zutaten:\n",
      "('Pilze', 'Schinken'): 47 times\n",
      "('Pilze', 'Zwiebeln'): 40 times\n",
      "('Pilze', 'Salami'): 33 times\n",
      "('Schinken', 'Salami'): 32 times\n",
      "('Salami', 'Zwiebeln'): 28 times\n",
      "('Pilze', 'Mais'): 28 times\n",
      "('Schinken', 'Zwiebeln'): 27 times\n",
      "('Paprika', 'Mais'): 22 times\n",
      "('Mais', 'Zwiebeln'): 22 times\n",
      "('Paprika', 'Pilze'): 21 times\n"
     ]
    }
   ],
   "source": [
    "pair_counter = Counter()\n",
    "for obj_list in df.index:\n",
    "    present_components = df.columns[df.loc[obj_list] == 1]\n",
    "    pairs = combinations(present_components, 2)\n",
    "    pair_counter.update(pairs)\n",
    "\n",
    "top_10_pairs = pair_counter.most_common(10)\n",
    "\n",
    "print(\"\\n10 am häufigsten kombinierte 2 Zutaten:\")\n",
    "for pair, count in top_10_pairs:\n",
    "    print(f\"{pair}: {count} times\")"
   ]
  },
  {
   "cell_type": "code",
   "execution_count": 10,
   "id": "477012ed",
   "metadata": {},
   "outputs": [
    {
     "name": "stdout",
     "output_type": "stream",
     "text": [
      "\n",
      "10 am häufigsten kombinierte 3 Zutaten:\n",
      "('Pilze', 'Schinken', 'Salami'): 21 times\n",
      "('Pilze', 'Schinken', 'Zwiebeln'): 20 times\n",
      "('Pilze', 'Salami', 'Zwiebeln'): 16 times\n",
      "('Schinken', 'Salami', 'Zwiebeln'): 15 times\n",
      "('Artischocke', 'Pilze', 'Schinken'): 13 times\n",
      "('Pilze', 'Mais', 'Zwiebeln'): 13 times\n",
      "('Paprika', 'Pilze', 'Zwiebeln'): 11 times\n",
      "('Jalapenos/Peperoni', 'Schinken', 'Salami'): 11 times\n",
      "('Paprika', 'Pilze', 'Mais'): 11 times\n",
      "('Jalapenos/Peperoni', 'Schinken', 'Zwiebeln'): 11 times\n"
     ]
    }
   ],
   "source": [
    "pair_counter = Counter()\n",
    "for obj_list in df.index:\n",
    "    present_components = df.columns[df.loc[obj_list] == 1]\n",
    "    pairs = combinations(present_components, 3)\n",
    "    pair_counter.update(pairs)\n",
    "\n",
    "top_10_pairs = pair_counter.most_common(10)\n",
    "\n",
    "print(\"\\n10 am häufigsten kombinierte 3 Zutaten:\")\n",
    "for pair, count in top_10_pairs:\n",
    "    print(f\"{pair}: {count} times\")"
   ]
  },
  {
   "cell_type": "code",
   "execution_count": 11,
   "id": "409d7136",
   "metadata": {},
   "outputs": [
    {
     "name": "stdout",
     "output_type": "stream",
     "text": [
      "['Jalapenos/Peperoni', 'Kapern', 'Pesto', 'Brokkoli', 'italienische Kräuter (getrocknet)', 'Parmesan', 'Tomatensoße', 'Anchovis', 'Paprika', 'Artischocke', 'Gorgonzola', 'Trüffel', 'Pilze', 'Oliven', 'Champignons', 'Kidneybohnen', 'Meeresfrüchte', 'Parma-Schinken', 'Rucola', 'Basilikum', 'Sauce Hollandaise', 'Peperoniwurst', 'Schinken', 'Getrocknete Tomaten', 'Knoblauch', 'Ananas', 'Spinat', 'Tomaten', 'Knobloch und leka sucuk', 'Zucchini', 'Mais', 'Schafskäse', 'Mozarella', 'Salami', 'Scharfe Salami', 'Aubergine', 'Veganer Käse', 'Parmaschinken', 'Creme fraiche', 'Lachs', 'Sardellen', 'Ei', 'Zwiebeln', 'Parmaschinken + Büffelmozzarella', 'Büffelmozzarella', 'Thunfisch', 'Mozzarella', 'Feta']\n"
     ]
    }
   ],
   "source": [
    "print(df.columns.tolist())"
   ]
  },
  {
   "cell_type": "code",
   "execution_count": 12,
   "id": "442fc111",
   "metadata": {},
   "outputs": [
    {
     "name": "stdout",
     "output_type": "stream",
     "text": [
      "          0         1         2         3         4         5         6  \\\n",
      "0 -0.183150 -0.146906 -0.112208 -0.116773 -0.060049 -0.110490 -0.015659   \n",
      "1 -0.128150  0.127773  0.057340 -0.123959 -0.011220 -0.090604  0.034807   \n",
      "2  0.412193  0.051745  0.018600  0.037129  0.111407  0.017317  0.057931   \n",
      "3  0.790308 -0.297499  0.025602 -0.020691 -0.292220  0.126858  0.031645   \n",
      "4 -0.152187  0.035373  0.053811 -0.112379 -0.048839 -0.092456  0.010950   \n",
      "\n",
      "          7         8         9  \n",
      "0  0.156674 -0.004990  0.213189  \n",
      "1  0.019108 -0.117951 -0.027023  \n",
      "2 -0.100033 -0.339748 -0.040487  \n",
      "3 -0.410004  0.314677  0.545296  \n",
      "4 -0.098196  0.177777 -0.013469  \n"
     ]
    }
   ],
   "source": [
    "from prince import MCA\n",
    "\n",
    "mca = MCA(n_components=10)\n",
    "mca.fit(df)\n",
    "mca_df = mca.transform(df)\n",
    "print(mca_df.head())"
   ]
  }
 ],
 "metadata": {
  "kernelspec": {
   "display_name": "Python 3 (ipykernel)",
   "language": "python",
   "name": "python3"
  },
  "language_info": {
   "codemirror_mode": {
    "name": "ipython",
    "version": 3
   },
   "file_extension": ".py",
   "mimetype": "text/x-python",
   "name": "python",
   "nbconvert_exporter": "python",
   "pygments_lexer": "ipython3",
   "version": "3.11.5"
  }
 },
 "nbformat": 4,
 "nbformat_minor": 5
}
